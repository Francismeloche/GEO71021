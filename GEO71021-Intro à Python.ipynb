{
 "cells": [
  {
   "cell_type": "markdown",
   "metadata": {},
   "source": [
    "# Démo pour les formats et les objet python"
   ]
  },
  {
   "cell_type": "markdown",
   "metadata": {},
   "source": [
    "## String"
   ]
  },
  {
   "cell_type": "code",
   "execution_count": 1,
   "metadata": {},
   "outputs": [
    {
     "name": "stdout",
     "output_type": "stream",
     "text": [
      "<class 'list'>\n",
      "[1, '1', 4.5]\n",
      "<class 'int'>\n",
      "<class 'str'>\n",
      "GEO\n",
      "71021\n",
      "GEO71021\n",
      "3\n",
      "les strings sont différents\n"
     ]
    }
   ],
   "source": [
    "st1 = 'GEO' # création d'un string\n",
    "st2 = '71021'\n",
    "\n",
    "string = '1'\n",
    "i = 1\n",
    "\n",
    "list = [1,'1',4.5]\n",
    "print(type(list))\n",
    "print(list)\n",
    "print(type(i))\n",
    "print(type(st1))\n",
    "print(st1)\n",
    "print(st2)\n",
    "print(st1+st2)\n",
    "print(len(st1))\n",
    "\n",
    "#comparaison\n",
    "if st1 == st2:\n",
    "    print('les strings sont identiques')\n",
    "    \n",
    "else:\n",
    "    print('les strings sont différents')\n",
    "\n",
    "        "
   ]
  },
  {
   "cell_type": "markdown",
   "metadata": {},
   "source": [
    "## Built_in methods for strings"
   ]
  },
  {
   "cell_type": "code",
   "execution_count": 3,
   "metadata": {},
   "outputs": [
    {
     "name": "stdout",
     "output_type": "stream",
     "text": [
      "geo\n",
      "<class 'str'>\n",
      "0\n"
     ]
    }
   ],
   "source": [
    "print(st1.lower())\n",
    "print(type(st1))\n",
    "print(st1.rfind('G'))"
   ]
  },
  {
   "cell_type": "markdown",
   "metadata": {},
   "source": [
    "## integer"
   ]
  },
  {
   "cell_type": "code",
   "execution_count": 6,
   "metadata": {},
   "outputs": [
    {
     "name": "stdout",
     "output_type": "stream",
     "text": [
      "<class 'int'>\n",
      "10\n",
      "0.6666666666666666\n",
      "<class 'float'>\n",
      "0\n",
      "24\n",
      "4096\n",
      "4 plus petit que 6\n"
     ]
    }
   ],
   "source": [
    "it1 = 4 #création d'un integer\n",
    "it2 = 6\n",
    "print(type(it1))\n",
    "\n",
    "print(it1 + it2)\n",
    "print( it1/it2)\n",
    "print(type(it1/it2))\n",
    "print(int(it1/it2))\n",
    "print(it1*it2)\n",
    "print(it1**it2)\n",
    "\n",
    "#comparaison\n",
    "if it1 > it2:\n",
    "    print(str(it1) + ' plus grand que ' + str(it2))\n",
    "else:\n",
    "    print(str(it1) + ' plus petit que ' + str(it2))"
   ]
  },
  {
   "cell_type": "markdown",
   "metadata": {},
   "source": [
    "## List"
   ]
  },
  {
   "cell_type": "code",
   "execution_count": 15,
   "metadata": {},
   "outputs": [
    {
     "name": "stdout",
     "output_type": "stream",
     "text": [
      "['GEO', '71021', 4, 6]\n",
      "['Bay', 'Felix', 'Jean-Gab', 'Julie', 'Sam']\n",
      "['Bay', 'Felix', 'Jean-Gab', 'Julie', 'Sam', 'francis']\n",
      "6\n",
      "Jean-Gab\n",
      "francis\n"
     ]
    },
    {
     "data": {
      "text/plain": [
       "['Felix', 'Jean-Gab', 'Julie']"
      ]
     },
     "execution_count": 15,
     "metadata": {},
     "output_type": "execute_result"
    }
   ],
   "source": [
    "li1 = [st1, st2, it1, it2] #Création de la liste\n",
    "print(li1)\n",
    "\n",
    "li2 = ['Bay', 'Felix', 'Jean-Gab', 'Julie', 'Sam']\n",
    "print(li2)\n",
    "\n",
    "#Comment ajouter mon nom à la liste du cours?\n",
    "li2.append('francis')\n",
    "print(li2)\n",
    "\n",
    "#Combien d'élément compose la liste?\n",
    "resultat_len = len(li2)\n",
    "print(resultat_len)\n",
    "\n",
    "#Comment faire pour aller chercher le 3ième élement de la list?\n",
    "li2[2]\n",
    "print(li2[2])\n",
    "#Comment faire pour aller chercher le dernier élement de la list?\n",
    "print(li2[-1])\n",
    "#Comment obtenir le deuxième élément jusqu'à l'avant dernier?\n",
    "li2[1:4]"
   ]
  },
  {
   "cell_type": "markdown",
   "metadata": {},
   "source": [
    "## Dictionnaire"
   ]
  },
  {
   "cell_type": "code",
   "execution_count": 16,
   "metadata": {},
   "outputs": [
    {
     "name": "stdout",
     "output_type": "stream",
     "text": [
      "{'etudiant1': 'francis', 'etudiant2': 'David'}\n",
      "David\n",
      "{'etudiant1': 'francis', 'etudiant2': 'David', 'etudiant3': 'Jean-Gab'}\n"
     ]
    }
   ],
   "source": [
    "dictio1 = {'etudiant1': 'francis', 'etudiant2': 'David'}\n",
    "print(dictio1)\n",
    "\n",
    "#Comment obtenir le nom de l'etudiant2?\n",
    "print(dictio1['etudiant2'])\n",
    "\n",
    "#Comment ajouter un élément au dictionnaire\n",
    "dictio1['etudiant3'] = 'Jean-Gab'\n",
    "print(dictio1)\n"
   ]
  },
  {
   "cell_type": "markdown",
   "metadata": {},
   "source": [
    "## Interaction"
   ]
  },
  {
   "cell_type": "code",
   "execution_count": 17,
   "metadata": {},
   "outputs": [
    {
     "data": {
      "text/plain": [
       "['Francis', 28, 'David', 30.5, True]"
      ]
     },
     "execution_count": 17,
     "metadata": {},
     "output_type": "execute_result"
    }
   ],
   "source": [
    "list_int = ['Francis', 28, 'David', 30.5, True]\n",
    "list_int"
   ]
  },
  {
   "cell_type": "markdown",
   "metadata": {},
   "source": [
    "## Imbrication"
   ]
  },
  {
   "cell_type": "code",
   "execution_count": 19,
   "metadata": {},
   "outputs": [
    {
     "name": "stdout",
     "output_type": "stream",
     "text": [
      "[[2, 3, 6, 89, 652, 5, 26, 2, 4, 6], [25, 35, 68, 74, 5, 7, 98, 6, 86, 2], [7, 8, 9, 4, 65, 235, 41, 256, 12, 23]]\n",
      "[25, 35, 68, 74, 5, 7, 98, 6, 86, 2]\n",
      "235\n"
     ]
    }
   ],
   "source": [
    "list_imb = [[2,3,6,89,652,5,26,2,4,6],[25,35,68,74,5,7,98,6,86,2],[7,8,9,4,65,235,41,256,12,23]]\n",
    "print(list_imb)\n",
    "\n",
    "#comment récupérer la 2 list dans la list?\n",
    "print(list_imb[1])\n",
    "\n",
    "#Comment récupérer la 6 éléments de la 3ième list?\n",
    "print(list_imb[2][5])"
   ]
  },
  {
   "cell_type": "code",
   "execution_count": 20,
   "metadata": {},
   "outputs": [
    {
     "name": "stdout",
     "output_type": "stream",
     "text": [
      "{'profil_1': [2, 3, 6, 89, 652, 5, 26, 2, 4, 6], 'profil_2': [25, 35, 68, 74, 5, 7, 98, 6, 86, 2], 'profil_3': [7, 8, 9, 4, 65, 235, 41, 256, 12, 23]}\n",
      "[25, 35, 68, 74, 5, 7, 98, 6, 86, 2]\n",
      "235\n"
     ]
    }
   ],
   "source": [
    "# Imbrication de dictionnaire et de liste\n",
    "dictli = {'profil_1':[2,3,6,89,652,5,26,2,4,6], 'profil_2':[25,35,68,74,5,7,98,6,86,2], 'profil_3': [7,8,9,4,65,235,41,256,12,23]}\n",
    "print(dictli)\n",
    "\n",
    "#comment récupérer le profil 2 dans la list?\n",
    "print(dictli['profil_2'])\n",
    "\n",
    "#Comment récupérer la 6 éléments du profil numéro 3?\n",
    "print(dictli['profil_3'][5])"
   ]
  },
  {
   "cell_type": "markdown",
   "metadata": {},
   "source": [
    "## NumPY"
   ]
  },
  {
   "cell_type": "code",
   "execution_count": null,
   "metadata": {},
   "outputs": [],
   "source": [
    "import numpy as np\n",
    "from scipy "
   ]
  },
  {
   "cell_type": "code",
   "execution_count": null,
   "metadata": {},
   "outputs": [],
   "source": [
    "#Création d'une numpy array à partir d'une liste python\n",
    "arr1d = np.array([0,1,2,3,4,5,6,7,8,9])\n",
    "print(arr1d)\n",
    "print(arr1d.shape)\n",
    "\n",
    "#Création d'une numpy array à partir de linspace\n",
    "# on veut créer un array de 0 à 10, avec un intervalle de 0.5\n",
    "arr1d_5 = np.linspace(0, 10, 21) #pourquoi 21?\n",
    "print(arr1d_5)\n",
    "print(arr1d_5.shape)\n",
    "print(arr1d_5.ndim)\n"
   ]
  },
  {
   "cell_type": "markdown",
   "metadata": {},
   "source": [
    "## Shape et dimension"
   ]
  },
  {
   "cell_type": "code",
   "execution_count": null,
   "metadata": {},
   "outputs": [],
   "source": [
    "arr2d = np.array([[1,2,3],\n",
    "                [1,2,3],\n",
    "                [1,2,3]])\n",
    "print(arr2d)\n",
    "print(arr2d.shape)\n",
    "print(arr2d.ndim)"
   ]
  },
  {
   "cell_type": "code",
   "execution_count": null,
   "metadata": {},
   "outputs": [],
   "source": [
    "arr3d = np.array([[[1,2,3],\n",
    "                   [1,2,3],\n",
    "                   [1,2,3]],\n",
    "                   [[1,2,3],\n",
    "                   [1,2,3],\n",
    "                   [1,2,3]],\n",
    "                   [[1,2,3],\n",
    "                   [1,2,3],\n",
    "                   [1,2,3]]])\n",
    "print(arr3d)\n",
    "print(arr3d.shape)\n",
    "print(arr3d.ndim)"
   ]
  },
  {
   "cell_type": "markdown",
   "metadata": {},
   "source": [
    "# Operations sur un numpy array"
   ]
  },
  {
   "cell_type": "code",
   "execution_count": 23,
   "metadata": {},
   "outputs": [],
   "source": [
    "import numpy as np"
   ]
  },
  {
   "cell_type": "code",
   "execution_count": 24,
   "metadata": {},
   "outputs": [
    {
     "name": "stdout",
     "output_type": "stream",
     "text": [
      "[1, 2, 3, 4, 1, 1, 1, 1]\n",
      "[2 3 4 5]\n"
     ]
    },
    {
     "data": {
      "text/plain": [
       "array([2, 3, 4, 5])"
      ]
     },
     "execution_count": 24,
     "metadata": {},
     "output_type": "execute_result"
    }
   ],
   "source": [
    "# addition de deux list python\n",
    "l1 = [1,2,3,4]\n",
    "l2 = [1,1,1,1]\n",
    "print(l1 + l2)\n",
    "\n",
    "# addition de deux numpy array\n",
    "arr1 = np.array([1,2,3,4])\n",
    "arr2 = np.array([1,1,1,1])\n",
    "print(arr1 + arr2)\n",
    "\n",
    "#Quelle ligne de code plus simple nous donnerait le même array équivalent?\n",
    "arr1+1"
   ]
  },
  {
   "cell_type": "code",
   "execution_count": 26,
   "metadata": {},
   "outputs": [
    {
     "name": "stdout",
     "output_type": "stream",
     "text": [
      "(6, 1)\n",
      "[[ 0]\n",
      " [10]\n",
      " [20]\n",
      " [30]\n",
      " [40]\n",
      " [50]]\n",
      "(3,)\n",
      "[0 1 2]\n",
      "[[ 0  1  2]\n",
      " [10 11 12]\n",
      " [20 21 22]\n",
      " [30 31 32]\n",
      " [40 41 42]\n",
      " [50 51 52]]\n",
      "[[  0   0   0]\n",
      " [  0  10  20]\n",
      " [  0  20  40]\n",
      " [  0  30  60]\n",
      " [  0  40  80]\n",
      " [  0  50 100]]\n"
     ]
    }
   ],
   "source": [
    "#créer un array vertical de shape (6,1) (2 dimensions obligatoire pour le verticale)\n",
    "a0 = np.array([0,10,20,30,40,50])\n",
    "a0 = a0.reshape([6,1])\n",
    "print(a0.shape)\n",
    "print(a0)\n",
    "\n",
    "#Je crée un array horizontal de shape (3,0) (1 dimensions)\n",
    "a1 = np.array([0,1,2])\n",
    "print(a1.shape)\n",
    "print(a1)\n",
    "\n",
    "#addition de broadcast\n",
    "a_add = a0 + a1\n",
    "print(a_add)\n",
    "\n",
    "#multiplication de broadcast\n",
    "a_mult = a0 * a1\n",
    "print(a_mult)"
   ]
  },
  {
   "cell_type": "markdown",
   "metadata": {},
   "source": [
    "## Pandas DataFrame"
   ]
  },
  {
   "cell_type": "code",
   "execution_count": 27,
   "metadata": {},
   "outputs": [],
   "source": [
    "import pandas as pd"
   ]
  },
  {
   "cell_type": "code",
   "execution_count": null,
   "metadata": {},
   "outputs": [],
   "source": [
    "# Créer un dictionnaire\n",
    "d = {'profil_1': [1,2,3,4,5,6], 'profil_2':[7,8,9,10,11,12]}\n",
    "# Création d'un dataframe avec un dictionnaire\n",
    "df = pd.DataFrame(d)\n",
    "df"
   ]
  },
  {
   "cell_type": "code",
   "execution_count": 28,
   "metadata": {},
   "outputs": [
    {
     "data": {
      "text/html": [
       "<div>\n",
       "<style scoped>\n",
       "    .dataframe tbody tr th:only-of-type {\n",
       "        vertical-align: middle;\n",
       "    }\n",
       "\n",
       "    .dataframe tbody tr th {\n",
       "        vertical-align: top;\n",
       "    }\n",
       "\n",
       "    .dataframe thead th {\n",
       "        text-align: right;\n",
       "    }\n",
       "</style>\n",
       "<table border=\"1\" class=\"dataframe\">\n",
       "  <thead>\n",
       "    <tr style=\"text-align: right;\">\n",
       "      <th></th>\n",
       "      <th>index</th>\n",
       "      <th>name</th>\n",
       "      <th>longitude</th>\n",
       "      <th>latitude</th>\n",
       "      <th>elevation</th>\n",
       "      <th>collection start</th>\n",
       "      <th>collection end</th>\n",
       "      <th>solution status</th>\n",
       "      <th>lateral rms</th>\n",
       "      <th>sample count</th>\n",
       "      <th>antenna height</th>\n",
       "    </tr>\n",
       "  </thead>\n",
       "  <tbody>\n",
       "    <tr>\n",
       "      <th>0</th>\n",
       "      <td>1</td>\n",
       "      <td>Point 1</td>\n",
       "      <td>-66.150767</td>\n",
       "      <td>48.911191</td>\n",
       "      <td>571.358885</td>\n",
       "      <td>2020-10-06 14:27:02 UTC</td>\n",
       "      <td>2020-10-06 14:27:39 UTC</td>\n",
       "      <td>FIX</td>\n",
       "      <td>0.0159</td>\n",
       "      <td>187.0</td>\n",
       "      <td>2.134</td>\n",
       "    </tr>\n",
       "    <tr>\n",
       "      <th>1</th>\n",
       "      <td>2</td>\n",
       "      <td>Point 2</td>\n",
       "      <td>-66.151050</td>\n",
       "      <td>48.911376</td>\n",
       "      <td>586.675706</td>\n",
       "      <td>2020-10-06 14:31:35 UTC</td>\n",
       "      <td>2020-10-06 14:32:00 UTC</td>\n",
       "      <td>FIX</td>\n",
       "      <td>0.0072</td>\n",
       "      <td>126.0</td>\n",
       "      <td>2.134</td>\n",
       "    </tr>\n",
       "    <tr>\n",
       "      <th>2</th>\n",
       "      <td>3</td>\n",
       "      <td>Point 3</td>\n",
       "      <td>-66.150732</td>\n",
       "      <td>48.911728</td>\n",
       "      <td>589.224440</td>\n",
       "      <td>2020-10-06 14:36:37 UTC</td>\n",
       "      <td>2020-10-06 14:37:04 UTC</td>\n",
       "      <td>FIX</td>\n",
       "      <td>0.0102</td>\n",
       "      <td>136.0</td>\n",
       "      <td>2.134</td>\n",
       "    </tr>\n",
       "    <tr>\n",
       "      <th>3</th>\n",
       "      <td>4</td>\n",
       "      <td>Point 4</td>\n",
       "      <td>-66.150279</td>\n",
       "      <td>48.912228</td>\n",
       "      <td>588.473287</td>\n",
       "      <td>2020-10-06 14:44:52 UTC</td>\n",
       "      <td>2020-10-06 14:45:14 UTC</td>\n",
       "      <td>FIX</td>\n",
       "      <td>0.0079</td>\n",
       "      <td>112.0</td>\n",
       "      <td>2.134</td>\n",
       "    </tr>\n",
       "    <tr>\n",
       "      <th>4</th>\n",
       "      <td>5</td>\n",
       "      <td>Point 5</td>\n",
       "      <td>-66.150332</td>\n",
       "      <td>48.911692</td>\n",
       "      <td>573.363618</td>\n",
       "      <td>2020-10-06 14:50:50 UTC</td>\n",
       "      <td>2020-10-06 14:51:23 UTC</td>\n",
       "      <td>FIX</td>\n",
       "      <td>0.0083</td>\n",
       "      <td>167.0</td>\n",
       "      <td>2.134</td>\n",
       "    </tr>\n",
       "    <tr>\n",
       "      <th>5</th>\n",
       "      <td>6</td>\n",
       "      <td>Point 6</td>\n",
       "      <td>-66.150291</td>\n",
       "      <td>48.911384</td>\n",
       "      <td>565.238279</td>\n",
       "      <td>2020-10-06 14:54:09 UTC</td>\n",
       "      <td>2020-10-06 14:54:35 UTC</td>\n",
       "      <td>FIX</td>\n",
       "      <td>0.0090</td>\n",
       "      <td>126.0</td>\n",
       "      <td>2.134</td>\n",
       "    </tr>\n",
       "  </tbody>\n",
       "</table>\n",
       "</div>"
      ],
      "text/plain": [
       "   index     name  longitude   latitude   elevation         collection start  \\\n",
       "0      1  Point 1 -66.150767  48.911191  571.358885  2020-10-06 14:27:02 UTC   \n",
       "1      2  Point 2 -66.151050  48.911376  586.675706  2020-10-06 14:31:35 UTC   \n",
       "2      3  Point 3 -66.150732  48.911728  589.224440  2020-10-06 14:36:37 UTC   \n",
       "3      4  Point 4 -66.150279  48.912228  588.473287  2020-10-06 14:44:52 UTC   \n",
       "4      5  Point 5 -66.150332  48.911692  573.363618  2020-10-06 14:50:50 UTC   \n",
       "5      6  Point 6 -66.150291  48.911384  565.238279  2020-10-06 14:54:09 UTC   \n",
       "\n",
       "            collection end solution status  lateral rms  sample count  \\\n",
       "0  2020-10-06 14:27:39 UTC             FIX       0.0159         187.0   \n",
       "1  2020-10-06 14:32:00 UTC             FIX       0.0072         126.0   \n",
       "2  2020-10-06 14:37:04 UTC             FIX       0.0102         136.0   \n",
       "3  2020-10-06 14:45:14 UTC             FIX       0.0079         112.0   \n",
       "4  2020-10-06 14:51:23 UTC             FIX       0.0083         167.0   \n",
       "5  2020-10-06 14:54:35 UTC             FIX       0.0090         126.0   \n",
       "\n",
       "   antenna height  \n",
       "0           2.134  \n",
       "1           2.134  \n",
       "2           2.134  \n",
       "3           2.134  \n",
       "4           2.134  \n",
       "5           2.134  "
      ]
     },
     "execution_count": 28,
     "metadata": {},
     "output_type": "execute_result"
    }
   ],
   "source": [
    "# Créer un dataframe à partir d'un csv\n",
    "# La fonction nécéssite un filepath en intrant\n",
    "df_csv = pd.read_csv('/home/francis/Documents/UQAR/Cours/GEO71021/data_exemple/Epaule_20201006.csv')\n",
    "df_csv"
   ]
  },
  {
   "cell_type": "code",
   "execution_count": 30,
   "metadata": {},
   "outputs": [
    {
     "name": "stdout",
     "output_type": "stream",
     "text": [
      "   index     name  longitude   latitude   elevation         collection start  \\\n",
      "0      1  Point 1 -66.150767  48.911191  571.358885  2020-10-06 14:27:02 UTC   \n",
      "1      2  Point 2 -66.151050  48.911376  586.675706  2020-10-06 14:31:35 UTC   \n",
      "\n",
      "            collection end solution status  lateral rms  sample count  \\\n",
      "0  2020-10-06 14:27:39 UTC             FIX       0.0159         187.0   \n",
      "1  2020-10-06 14:32:00 UTC             FIX       0.0072         126.0   \n",
      "\n",
      "   antenna height  \n",
      "0           2.134  \n",
      "1           2.134  \n"
     ]
    },
    {
     "data": {
      "text/plain": [
       "0    571.358885\n",
       "1    586.675706\n",
       "Name: elevation, dtype: float64"
      ]
     },
     "execution_count": 30,
     "metadata": {},
     "output_type": "execute_result"
    }
   ],
   "source": [
    "# Comment sélectionner des données dans un pandas dataframe?\n",
    "# Slicing\n",
    "print(df_csv[0:2])# noter que le dernier index est exclusif\n",
    "df_csv['elevation'][0:2]"
   ]
  },
  {
   "cell_type": "code",
   "execution_count": 31,
   "metadata": {},
   "outputs": [
    {
     "data": {
      "text/html": [
       "<div>\n",
       "<style scoped>\n",
       "    .dataframe tbody tr th:only-of-type {\n",
       "        vertical-align: middle;\n",
       "    }\n",
       "\n",
       "    .dataframe tbody tr th {\n",
       "        vertical-align: top;\n",
       "    }\n",
       "\n",
       "    .dataframe thead th {\n",
       "        text-align: right;\n",
       "    }\n",
       "</style>\n",
       "<table border=\"1\" class=\"dataframe\">\n",
       "  <thead>\n",
       "    <tr style=\"text-align: right;\">\n",
       "      <th></th>\n",
       "      <th>index</th>\n",
       "      <th>name</th>\n",
       "      <th>longitude</th>\n",
       "      <th>latitude</th>\n",
       "      <th>elevation</th>\n",
       "      <th>collection end</th>\n",
       "      <th>solution status</th>\n",
       "      <th>lateral rms</th>\n",
       "      <th>sample count</th>\n",
       "      <th>antenna height</th>\n",
       "    </tr>\n",
       "    <tr>\n",
       "      <th>collection start</th>\n",
       "      <th></th>\n",
       "      <th></th>\n",
       "      <th></th>\n",
       "      <th></th>\n",
       "      <th></th>\n",
       "      <th></th>\n",
       "      <th></th>\n",
       "      <th></th>\n",
       "      <th></th>\n",
       "      <th></th>\n",
       "    </tr>\n",
       "  </thead>\n",
       "  <tbody>\n",
       "    <tr>\n",
       "      <th>2020-10-06 14:27:02 UTC</th>\n",
       "      <td>1</td>\n",
       "      <td>Point 1</td>\n",
       "      <td>-66.150767</td>\n",
       "      <td>48.911191</td>\n",
       "      <td>571.358885</td>\n",
       "      <td>2020-10-06 14:27:39 UTC</td>\n",
       "      <td>FIX</td>\n",
       "      <td>0.0159</td>\n",
       "      <td>187.0</td>\n",
       "      <td>2.134</td>\n",
       "    </tr>\n",
       "    <tr>\n",
       "      <th>2020-10-06 14:31:35 UTC</th>\n",
       "      <td>2</td>\n",
       "      <td>Point 2</td>\n",
       "      <td>-66.151050</td>\n",
       "      <td>48.911376</td>\n",
       "      <td>586.675706</td>\n",
       "      <td>2020-10-06 14:32:00 UTC</td>\n",
       "      <td>FIX</td>\n",
       "      <td>0.0072</td>\n",
       "      <td>126.0</td>\n",
       "      <td>2.134</td>\n",
       "    </tr>\n",
       "    <tr>\n",
       "      <th>2020-10-06 14:36:37 UTC</th>\n",
       "      <td>3</td>\n",
       "      <td>Point 3</td>\n",
       "      <td>-66.150732</td>\n",
       "      <td>48.911728</td>\n",
       "      <td>589.224440</td>\n",
       "      <td>2020-10-06 14:37:04 UTC</td>\n",
       "      <td>FIX</td>\n",
       "      <td>0.0102</td>\n",
       "      <td>136.0</td>\n",
       "      <td>2.134</td>\n",
       "    </tr>\n",
       "    <tr>\n",
       "      <th>2020-10-06 14:44:52 UTC</th>\n",
       "      <td>4</td>\n",
       "      <td>Point 4</td>\n",
       "      <td>-66.150279</td>\n",
       "      <td>48.912228</td>\n",
       "      <td>588.473287</td>\n",
       "      <td>2020-10-06 14:45:14 UTC</td>\n",
       "      <td>FIX</td>\n",
       "      <td>0.0079</td>\n",
       "      <td>112.0</td>\n",
       "      <td>2.134</td>\n",
       "    </tr>\n",
       "    <tr>\n",
       "      <th>2020-10-06 14:50:50 UTC</th>\n",
       "      <td>5</td>\n",
       "      <td>Point 5</td>\n",
       "      <td>-66.150332</td>\n",
       "      <td>48.911692</td>\n",
       "      <td>573.363618</td>\n",
       "      <td>2020-10-06 14:51:23 UTC</td>\n",
       "      <td>FIX</td>\n",
       "      <td>0.0083</td>\n",
       "      <td>167.0</td>\n",
       "      <td>2.134</td>\n",
       "    </tr>\n",
       "    <tr>\n",
       "      <th>2020-10-06 14:54:09 UTC</th>\n",
       "      <td>6</td>\n",
       "      <td>Point 6</td>\n",
       "      <td>-66.150291</td>\n",
       "      <td>48.911384</td>\n",
       "      <td>565.238279</td>\n",
       "      <td>2020-10-06 14:54:35 UTC</td>\n",
       "      <td>FIX</td>\n",
       "      <td>0.0090</td>\n",
       "      <td>126.0</td>\n",
       "      <td>2.134</td>\n",
       "    </tr>\n",
       "  </tbody>\n",
       "</table>\n",
       "</div>"
      ],
      "text/plain": [
       "                         index     name  longitude   latitude   elevation  \\\n",
       "collection start                                                            \n",
       "2020-10-06 14:27:02 UTC      1  Point 1 -66.150767  48.911191  571.358885   \n",
       "2020-10-06 14:31:35 UTC      2  Point 2 -66.151050  48.911376  586.675706   \n",
       "2020-10-06 14:36:37 UTC      3  Point 3 -66.150732  48.911728  589.224440   \n",
       "2020-10-06 14:44:52 UTC      4  Point 4 -66.150279  48.912228  588.473287   \n",
       "2020-10-06 14:50:50 UTC      5  Point 5 -66.150332  48.911692  573.363618   \n",
       "2020-10-06 14:54:09 UTC      6  Point 6 -66.150291  48.911384  565.238279   \n",
       "\n",
       "                                  collection end solution status  lateral rms  \\\n",
       "collection start                                                                \n",
       "2020-10-06 14:27:02 UTC  2020-10-06 14:27:39 UTC             FIX       0.0159   \n",
       "2020-10-06 14:31:35 UTC  2020-10-06 14:32:00 UTC             FIX       0.0072   \n",
       "2020-10-06 14:36:37 UTC  2020-10-06 14:37:04 UTC             FIX       0.0102   \n",
       "2020-10-06 14:44:52 UTC  2020-10-06 14:45:14 UTC             FIX       0.0079   \n",
       "2020-10-06 14:50:50 UTC  2020-10-06 14:51:23 UTC             FIX       0.0083   \n",
       "2020-10-06 14:54:09 UTC  2020-10-06 14:54:35 UTC             FIX       0.0090   \n",
       "\n",
       "                         sample count  antenna height  \n",
       "collection start                                       \n",
       "2020-10-06 14:27:02 UTC         187.0           2.134  \n",
       "2020-10-06 14:31:35 UTC         126.0           2.134  \n",
       "2020-10-06 14:36:37 UTC         136.0           2.134  \n",
       "2020-10-06 14:44:52 UTC         112.0           2.134  \n",
       "2020-10-06 14:50:50 UTC         167.0           2.134  \n",
       "2020-10-06 14:54:09 UTC         126.0           2.134  "
      ]
     },
     "execution_count": 31,
     "metadata": {},
     "output_type": "execute_result"
    }
   ],
   "source": [
    "# Il existe déjà une colonne index. On peut l'utiliser pour setter un index personnalisé\n",
    "# Cela peu être utile si on veut indexer avec un index temporel\n",
    "df_csv.set_index('collection start')"
   ]
  },
  {
   "cell_type": "code",
   "execution_count": 32,
   "metadata": {},
   "outputs": [
    {
     "name": "stdout",
     "output_type": "stream",
     "text": [
      "-66.15073172729412\n"
     ]
    },
    {
     "data": {
      "text/plain": [
       "2   -66.150732\n",
       "3   -66.150279\n",
       "4   -66.150332\n",
       "5   -66.150291\n",
       "Name: longitude, dtype: float64"
      ]
     },
     "execution_count": 32,
     "metadata": {},
     "output_type": "execute_result"
    }
   ],
   "source": [
    "# Comment séléectionner par une colonne\n",
    "df_csv['longitude']\n",
    "\n",
    "#Comment sélectionner une colonne et une rangée\n",
    "print(df_csv['longitude'][2])\n",
    "\n",
    "#Comment sélectionner une rangée et plus bas\n",
    "#Rajoute le signe :\n",
    "df_csv['longitude'][2:]"
   ]
  },
  {
   "cell_type": "markdown",
   "metadata": {},
   "source": [
    "## Concatenate, Merge and join Pandas"
   ]
  },
  {
   "cell_type": "code",
   "execution_count": null,
   "metadata": {},
   "outputs": [],
   "source": [
    "left = pd.DataFrame(\n",
    "        {'keys':['p1','p2','p3','p4','p5'],\n",
    "        'lat':[43.12,42.97,43.54,43.16,43.04], \n",
    "        'long':[-111.32,-111.23,-111.41,-111.05,-111.08],\n",
    "        'alt':[125,112,108,97,138]}\n",
    ")\n",
    "right = pd.DataFrame(\n",
    "        {'keys':['p1','p1','p1','p2','p2','p3','p4','p6'],\n",
    "         'temp':[15,14,12,23,16,18,13,11],\n",
    "         'HR':[98,91,92,95,98,93,91,93]}\n",
    ")\n",
    "print(left)\n",
    "print(right)\n",
    "\n",
    "#concatenate axis 1\n",
    "con1 = pd.concat([left,right], axis=1)\n",
    "print(con1)"
   ]
  },
  {
   "cell_type": "code",
   "execution_count": null,
   "metadata": {},
   "outputs": [],
   "source": [
    "#merge join left\n",
    "merg1 = pd.merge(left,right, how='left', on='keys')\n",
    "print(merg1)"
   ]
  },
  {
   "cell_type": "code",
   "execution_count": null,
   "metadata": {},
   "outputs": [],
   "source": [
    "#merge join right\n",
    "merg2 = pd.merge(left,right, how='right', on='keys')\n",
    "print(merg2)"
   ]
  },
  {
   "cell_type": "code",
   "execution_count": null,
   "metadata": {},
   "outputs": [],
   "source": [
    "#merge join inner\n",
    "mergin = pd.merge(left,right, how='inner', on='keys')\n",
    "print(mergin)"
   ]
  },
  {
   "cell_type": "code",
   "execution_count": null,
   "metadata": {},
   "outputs": [],
   "source": [
    "#merge join outter\n",
    "mergout = pd.merge(left,right, how='outer', on='keys')\n",
    "print(mergout)"
   ]
  },
  {
   "cell_type": "markdown",
   "metadata": {},
   "source": [
    "## GeoPandas"
   ]
  },
  {
   "cell_type": "code",
   "execution_count": null,
   "metadata": {},
   "outputs": [],
   "source": [
    "import geopandas as gpd"
   ]
  },
  {
   "cell_type": "code",
   "execution_count": null,
   "metadata": {},
   "outputs": [],
   "source": [
    "#string de mon file path de mon shpfile\n",
    "shpfile = '/home/francis/Documents/UQAR/Cours/GEO71021/data_exemple/EP_20200229_postcorrected.shp'\n",
    "\n",
    "#lecture de mon shpfile avec comme paramètre mon objet string contenant mon filepath\n",
    "shp_gpd = gpd.read_file(shpfile)\n",
    "shp_gpd"
   ]
  },
  {
   "cell_type": "code",
   "execution_count": null,
   "metadata": {},
   "outputs": [],
   "source": [
    "# Obtenir l'information du CRS\n",
    "print(shp_gpd.crs)\n",
    "\n",
    "#Reprojeter en utm avec le code EPSG de UTM zone 19\n",
    "point_26919 = shp_gpd.to_crs(26919)\n",
    "point_26919"
   ]
  },
  {
   "cell_type": "markdown",
   "metadata": {},
   "source": [
    "## Rasterio"
   ]
  },
  {
   "cell_type": "code",
   "execution_count": null,
   "metadata": {},
   "outputs": [],
   "source": [
    "import rasterio\n",
    "from rasterio.plot import show #limite l'importation de la libairie\n",
    "import matplotlib.pyplot as plt"
   ]
  },
  {
   "cell_type": "code",
   "execution_count": null,
   "metadata": {},
   "outputs": [],
   "source": [
    "raster = rasterio.open('/home/francis/Documents/UQAR/Cours/GEO71021/data_exemple/TPI_EP.sdat')\n",
    "print(raster.crs)\n",
    "show(raster)"
   ]
  },
  {
   "cell_type": "code",
   "execution_count": null,
   "metadata": {},
   "outputs": [],
   "source": [
    "#Créer une figure plus grande\n",
    "fig, ax = plt.subplots(figsize=(20,20))\n",
    "point_26919.plot(ax=ax, color='orangered') # Ajout des points d'échantillonnage sur la figure\n",
    "show(raster, ax=ax)"
   ]
  },
  {
   "cell_type": "markdown",
   "metadata": {},
   "source": [
    "## For Loop"
   ]
  },
  {
   "cell_type": "code",
   "execution_count": null,
   "metadata": {},
   "outputs": [],
   "source": []
  },
  {
   "cell_type": "code",
   "execution_count": null,
   "metadata": {},
   "outputs": [],
   "source": [
    "l = range(10)\n",
    "print(l)\n",
    "\n",
    "for i in range(10):\n",
    "    print(i)\n",
    "    print('allo numéro '+str(i))\n",
    "    if i < 5 & :\n",
    "        print('yes')\n",
    "    else:\n",
    "        print('fuck')"
   ]
  },
  {
   "cell_type": "code",
   "execution_count": null,
   "metadata": {},
   "outputs": [],
   "source": [
    "l = ['francis', 'felix', 'bay', 'sam', 'julie']\n",
    "\n",
    "for i in l:\n",
    "    print('nombre de lettre dans '+i+' : '+ str(len(i)))"
   ]
  },
  {
   "cell_type": "code",
   "execution_count": null,
   "metadata": {},
   "outputs": [],
   "source": [
    "#for loop d'un dictionnaire le i représente quoi?\n",
    "for i in dictli:\n",
    "    print(i)"
   ]
  },
  {
   "cell_type": "code",
   "execution_count": null,
   "metadata": {},
   "outputs": [],
   "source": [
    "# les profils contiennent des list de valeurs que j'aimerais également parcourir\n",
    "\n",
    "for key, items in dictli.items():\n",
    "    print(key)\n",
    "    print(items)\n",
    "    for i in items:\n",
    "        print(i)\n",
    "        \n",
    "        "
   ]
  },
  {
   "cell_type": "code",
   "execution_count": null,
   "metadata": {},
   "outputs": [],
   "source": [
    "#Stockage de l'opération de notre for loop et condition\n",
    "coord = {}\n",
    "for index, row in point_26919.iterrows():\n",
    "    print('index ' + str(index))\n",
    "    print('nb_sample ' + str(row['nb_sample']))\n",
    "    if row['nb_sample'] >= 60:\n",
    "        print('yessir miller')\n",
    "    else:\n",
    "        print('merde')\n",
    "    x = row['geometry'].xy[0][0]\n",
    "    y = row['geometry'].xy[1][0]\n",
    "    name = row['point_id']\n",
    "    coord.update({name:[x,y]})\n"
   ]
  },
  {
   "cell_type": "code",
   "execution_count": null,
   "metadata": {},
   "outputs": [],
   "source": [
    "coord"
   ]
  },
  {
   "cell_type": "markdown",
   "metadata": {},
   "source": [
    "## Fonction"
   ]
  },
  {
   "cell_type": "code",
   "execution_count": null,
   "metadata": {},
   "outputs": [],
   "source": [
    "def my_function(filename,nb_sample):\n",
    "    gdf = gpd.read_file(filename)\n",
    "    gdf_26919 = gdf.to_crs(26919)\n",
    "    \n",
    "    coord = {}\n",
    "    for index, row in gdf.iterrows():\n",
    "        print('index ' + str(index))\n",
    "        print('nb_sample ' + str(row['nb_sample']))\n",
    "        if row['nb_sample'] >= nb_sample:\n",
    "            print('yessir miller')\n",
    "        else:\n",
    "            print('merde')\n",
    "        x = row['geometry'].xy[0][0]\n",
    "        y = row['geometry'].xy[1][0]\n",
    "        name = row['point_id']\n",
    "        coord.update({name:[x,y]})\n",
    "    return coord"
   ]
  },
  {
   "cell_type": "code",
   "execution_count": null,
   "metadata": {},
   "outputs": [],
   "source": [
    "def my_function(fileshpf,fileraster):\n",
    "    gdf = gpd.read_file(filename)\n",
    "    gdf_26919 = gdf.to_crs(26919)\n",
    "    \n",
    "    coord = []\n",
    "    for index, row in gdf.iterrows():\n",
    "        x = row['geometry'].xy[0][0]\n",
    "        y = row['geometry'].xy[1][0]\n",
    "        name = row['point_id']\n",
    "        \n",
    "        values = float(xdr.sel(x = x, y = y, method = \"nearest\").values)\n",
    "        print(values)\n",
    "        coord.append(values)\n",
    "        #coord.update({name:[x,y]})\n",
    "    return coord"
   ]
  },
  {
   "cell_type": "code",
   "execution_count": null,
   "metadata": {},
   "outputs": [],
   "source": [
    "path = '/home/francis/Documents/UQAR/Cours/GEO71021/data_exemple/EP_20200229_postcorrected.shp'\n",
    "\n",
    "EP_coord = my_function(path, 80) \n",
    "EP_coord\n"
   ]
  },
  {
   "cell_type": "code",
   "execution_count": null,
   "metadata": {},
   "outputs": [],
   "source": [
    "path_shpf = '/home/francis/Documents/UQAR/Cours/GEO71021/data_exemple/EP_20200229_postcorrected.shp'\n",
    "path_raster = 'dd'\n",
    "EP_coord = my_function(path_shpf, path_raster) \n",
    "EP_coord"
   ]
  }
 ],
 "metadata": {
  "kernelspec": {
   "display_name": "Python 3 (ipykernel)",
   "language": "python",
   "name": "python3"
  },
  "language_info": {
   "codemirror_mode": {
    "name": "ipython",
    "version": 3
   },
   "file_extension": ".py",
   "mimetype": "text/x-python",
   "name": "python",
   "nbconvert_exporter": "python",
   "pygments_lexer": "ipython3",
   "version": "3.11.9"
  }
 },
 "nbformat": 4,
 "nbformat_minor": 4
}
